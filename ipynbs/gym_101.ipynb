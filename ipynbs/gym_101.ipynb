{
 "cells": [
  {
   "cell_type": "code",
   "execution_count": 1,
   "metadata": {
    "collapsed": true,
    "pycharm": {
     "is_executing": false
    }
   },
   "outputs": [],
   "source": [
    "import gym\n",
    "import random\n",
    "%load_ext autoreload\n",
    "%autoreload 2"
   ]
  },
  {
   "cell_type": "code",
   "execution_count": 2,
   "outputs": [
    {
     "name": "stdout",
     "text": [
      "Obtaining file:///C:/Users/icybee/PycharmProjects/gym-chinese-chess\n",
      "Requirement already satisfied: gym in c:\\programdata\\anaconda3\\lib\\site-packages\\gym-0.17.1-py3.7.egg (from gym-chinese-chess==0.0.1) (0.17.1)\n",
      "Requirement already satisfied: numpy in c:\\programdata\\anaconda3\\lib\\site-packages (from gym-chinese-chess==0.0.1) (1.16.5)\n",
      "Requirement already satisfied: scipy in c:\\users\\icybee\\appdata\\roaming\\python\\python37\\site-packages (from gym->gym-chinese-chess==0.0.1) (1.4.1)\n",
      "Requirement already satisfied: six in c:\\programdata\\anaconda3\\lib\\site-packages (from gym->gym-chinese-chess==0.0.1) (1.12.0)\n",
      "Requirement already satisfied: pyglet<=1.5.0,>=1.4.0 in c:\\programdata\\anaconda3\\lib\\site-packages (from gym->gym-chinese-chess==0.0.1) (1.5.0)\n",
      "Requirement already satisfied: cloudpickle<1.4.0,>=1.2.0 in c:\\programdata\\anaconda3\\lib\\site-packages (from gym->gym-chinese-chess==0.0.1) (1.2.2)\n",
      "Requirement already satisfied: future in c:\\programdata\\anaconda3\\lib\\site-packages (from pyglet<=1.5.0,>=1.4.0->gym->gym-chinese-chess==0.0.1) (0.17.1)\n",
      "Installing collected packages: gym-chinese-chess\n",
      "  Found existing installation: gym-chinese-chess 0.0.1\n",
      "    Uninstalling gym-chinese-chess-0.0.1:\n",
      "      Successfully uninstalled gym-chinese-chess-0.0.1\n",
      "  Running setup.py develop for gym-chinese-chess\n",
      "Successfully installed gym-chinese-chess\n"
     ],
     "output_type": "stream"
    }
   ],
   "source": [
    "! pip install -e ../"
   ],
   "metadata": {
    "collapsed": false,
    "pycharm": {
     "name": "#%%\n",
     "is_executing": false
    }
   }
  },
  {
   "cell_type": "markdown",
   "source": [
    "# 中国象棋gym环境使用demo\n",
    "## 1.创建一个中国象棋环境"
   ],
   "metadata": {
    "collapsed": false
   }
  },
  {
   "cell_type": "code",
   "execution_count": 3,
   "outputs": [
    {
     "name": "stderr",
     "text": [
      "C:\\ProgramData\\Anaconda3\\lib\\site-packages\\gym-0.17.1-py3.7.egg\\gym\\logger.py:30: UserWarning: \u001b[33mWARN: Box bound precision lowered by casting to float32\u001b[0m\n",
      "  warnings.warn(colorize('%s: %s'%('WARN', msg % args), 'yellow'))\n"
     ],
     "output_type": "stream"
    }
   ],
   "source": [
    "chinese_chess_env = gym.make('gym_chinese_chess:cchess-v0')"
   ],
   "metadata": {
    "collapsed": false,
    "pycharm": {
     "name": "#%%\n",
     "is_executing": false
    }
   }
  },
  {
   "cell_type": "markdown",
   "source": [
    "## 2.查看开局盘面"
   ],
   "metadata": {
    "collapsed": false
   }
  },
  {
   "cell_type": "code",
   "execution_count": 4,
   "outputs": [
    {
     "name": "stdout",
     "text": [
      "\n",
      " 9俥傌象士将士象傌俥\n",
      " 8．．．．．．．．．\n",
      " 7．砲．．．．．砲．\n",
      " 6卒．卒．卒．卒．卒\n",
      " 5．．．．．．．．．\n",
      " 4．．．．．．．．．\n",
      " 3兵．兵．兵．兵．兵\n",
      " 2．炮．．．．．炮．\n",
      " 1．．．．．．．．．\n",
      " 0车马相仕帅仕相马车\n",
      "  ａｂｃｄｅｆｇｈｉ\n",
      "\n",
      "\n"
     ],
     "output_type": "stream"
    }
   ],
   "source": [
    "print(chinese_chess_env.render())"
   ],
   "metadata": {
    "collapsed": false,
    "pycharm": {
     "name": "#%%\n",
     "is_executing": false
    }
   }
  },
  {
   "cell_type": "markdown",
   "source": [
    "## 3.获取当前局面下的所有可能走法"
   ],
   "metadata": {
    "collapsed": false
   }
  },
  {
   "cell_type": "code",
   "execution_count": 5,
   "outputs": [],
   "source": [
    "actions = chinese_chess_env.get_possible_actions()"
   ],
   "metadata": {
    "collapsed": false,
    "pycharm": {
     "name": "#%%\n",
     "is_executing": false
    }
   }
  },
  {
   "cell_type": "markdown",
   "source": [
    "## 4.随机走一步"
   ],
   "metadata": {
    "collapsed": false
   }
  },
  {
   "cell_type": "code",
   "execution_count": 6,
   "outputs": [],
   "source": [
    "observation,reward,done,info = chinese_chess_env.step(actions[0])"
   ],
   "metadata": {
    "collapsed": false,
    "pycharm": {
     "name": "#%%\n",
     "is_executing": false
    }
   }
  },
  {
   "cell_type": "markdown",
   "source": [
    "## 5.查看刚刚随机走的一步具体是什么"
   ],
   "metadata": {
    "collapsed": false
   }
  },
  {
   "cell_type": "code",
   "execution_count": 7,
   "outputs": [
    {
     "data": {
      "text/plain": "'a3a4'"
     },
     "metadata": {},
     "output_type": "execute_result",
     "execution_count": 7
    }
   ],
   "source": [
    "chinese_chess_env.action2move(actions[0])"
   ],
   "metadata": {
    "collapsed": false,
    "pycharm": {
     "name": "#%%\n",
     "is_executing": false
    }
   }
  },
  {
   "cell_type": "markdown",
   "source": [
    "## 6.查看刚刚随机走完之后的局面"
   ],
   "metadata": {
    "collapsed": false
   }
  },
  {
   "cell_type": "code",
   "execution_count": 8,
   "outputs": [
    {
     "name": "stdout",
     "text": [
      "\n",
      " 9俥傌象士将士象傌俥\n",
      " 8．．．．．．．．．\n",
      " 7．砲．．．．．砲．\n",
      " 6卒．卒．卒．卒．．\n",
      " 5．．．．．．．．卒\n",
      " 4．．．．．．．．．\n",
      " 3兵．兵．兵．兵．兵\n",
      " 2．炮．．．．．炮．\n",
      " 1．．．．．．．．．\n",
      " 0车马相仕帅仕相马车\n",
      "  ａｂｃｄｅｆｇｈｉ\n",
      "\n",
      "\n"
     ],
     "output_type": "stream"
    }
   ],
   "source": [
    "print(chinese_chess_env.render())"
   ],
   "metadata": {
    "collapsed": false,
    "pycharm": {
     "name": "#%%\n",
     "is_executing": false
    }
   }
  },
  {
   "cell_type": "markdown",
   "source": [
    "## 7.利用中国象棋gym环境进行随机自对弈"
   ],
   "metadata": {
    "collapsed": false
   }
  },
  {
   "cell_type": "code",
   "execution_count": 9,
   "outputs": [],
   "source": [
    "chinese_chess_env.reset()\n",
    "moves = []\n",
    "while True:\n",
    "    actions = chinese_chess_env.get_possible_actions()\n",
    "    rand_action = random.choice(actions)\n",
    "    moves.append(chinese_chess_env.action2move(rand_action))\n",
    "    #print(chinese_chess_env.render())\n",
    "    #print(chinese_chess_env.action2move(rand_action))\n",
    "    observation,reward,done,info = chinese_chess_env.step(rand_action)\n",
    "    if done:\n",
    "        break"
   ],
   "metadata": {
    "collapsed": false,
    "pycharm": {
     "name": "#%%\n",
     "is_executing": false
    }
   }
  },
  {
   "cell_type": "markdown",
   "source": [
    "## 8.查看对弈的最后5个局面"
   ],
   "metadata": {
    "collapsed": false
   }
  },
  {
   "cell_type": "code",
   "execution_count": 10,
   "outputs": [
    {
     "name": "stdout",
     "text": [
      "f7d7\n",
      "\n",
      " 9．．．将．士象．俥\n",
      " 8．．．．士．．．．\n",
      " 7象．．．砲．傌．．\n",
      " 6马．傌．．．．．．\n",
      " 5．．．炮卒炮卒兵．\n",
      " 4．．．．．．兵．马\n",
      " 3．．卒．．．．．．\n",
      " 2相．．．．砲．．．\n",
      " 1．．．．．．．．．\n",
      " 0．．．仕帅仕相．车\n",
      "  ａｂｃｄｅｆｇｈｉ\n",
      "\n",
      "\n",
      "d5a5\n",
      "\n",
      " 9俥．象士将士．．．\n",
      " 8．．．．．．．．．\n",
      " 7．．．炮．．．．象\n",
      " 6．．．．．．兵．．\n",
      " 5傌．卒．．．．．．\n",
      " 4．卒兵砲兵．．．砲\n",
      " 3．．．．．．马．傌\n",
      " 2．．马．炮．．．相\n",
      " 1．．．．仕．．．．\n",
      " 0车．相仕．帅．．．\n",
      "  ａｂｃｄｅｆｇｈｉ\n",
      "\n",
      "\n",
      "e1f2\n",
      "\n",
      " 9．．．将．士象．俥\n",
      " 8．．．．．．．．．\n",
      " 7象．．士砲．傌．．\n",
      " 6马．傌．．．．．．\n",
      " 5炮．．．卒炮卒兵．\n",
      " 4．．．．．．兵．马\n",
      " 3．．卒．．．．．．\n",
      " 2相．．．．砲．．．\n",
      " 1．．．．．．．．．\n",
      " 0．．．仕帅仕相．车\n",
      "  ａｂｃｄｅｆｇｈｉ\n",
      "\n",
      "\n",
      "a5a7\n",
      "\n",
      " 9俥．象士将士．．．\n",
      " 8．．．．．．．．．\n",
      " 7．．．炮．．．．象\n",
      " 6．．．．．．兵．．\n",
      " 5傌．卒．．．．．．\n",
      " 4．卒兵砲兵．．．．\n",
      " 3．．．．．．马．傌\n",
      " 2．．马．炮仕．．砲\n",
      " 1．．．．．．．．．\n",
      " 0车．相仕．帅．．．\n",
      "  ａｂｃｄｅｆｇｈｉ\n",
      "\n",
      "\n",
      "e2e9\n",
      "\n",
      " 9．．．将．士象．俥\n",
      " 8．．．．．．．．．\n",
      " 7炮．．士．．傌．．\n",
      " 6马．傌．．．．．．\n",
      " 5．．．．卒炮卒兵．\n",
      " 4．．．．．．兵．马\n",
      " 3．．卒．．．．．．\n",
      " 2相．．．．砲．．．\n",
      " 1．．．．．．．．．\n",
      " 0．．．仕砲仕相．车\n",
      "  ａｂｃｄｅｆｇｈｉ\n",
      "\n",
      "\n"
     ],
     "output_type": "stream"
    }
   ],
   "source": [
    "for one_obs,one_move in zip(info[\"history\"][-5:],moves[-5:]):\n",
    "    print(one_move)\n",
    "    print(one_obs.print_pos())"
   ],
   "metadata": {
    "collapsed": false,
    "pycharm": {
     "name": "#%%\n",
     "is_executing": false
    }
   }
  },
  {
   "cell_type": "markdown",
   "source": [
    "## 9.查看环境的observation space和action space"
   ],
   "metadata": {
    "collapsed": false
   }
  },
  {
   "cell_type": "code",
   "execution_count": 11,
   "outputs": [
    {
     "data": {
      "text/plain": "Box(6, 10, 9)"
     },
     "metadata": {},
     "output_type": "execute_result",
     "execution_count": 11
    }
   ],
   "source": [
    "chinese_chess_env.observation_space"
   ],
   "metadata": {
    "collapsed": false,
    "pycharm": {
     "name": "#%%\n",
     "is_executing": false
    }
   }
  },
  {
   "cell_type": "code",
   "execution_count": 12,
   "outputs": [
    {
     "data": {
      "text/plain": "Discrete(8100)"
     },
     "metadata": {},
     "output_type": "execute_result",
     "execution_count": 12
    }
   ],
   "source": [
    "# 实际上游戏的action space由9 * 10的棋盘的笛卡尔积（90 * 90）和一个认输的action构成\n",
    "chinese_chess_env.action_space"
   ],
   "metadata": {
    "collapsed": false,
    "pycharm": {
     "name": "#%%\n",
     "is_executing": false
    }
   }
  },
  {
   "cell_type": "markdown",
   "source": [
    "## 10.查看observation数组"
   ],
   "metadata": {
    "collapsed": false
   }
  },
  {
   "cell_type": "code",
   "execution_count": 13,
   "outputs": [
    {
     "data": {
      "text/plain": "(6, 10, 9)"
     },
     "metadata": {},
     "output_type": "execute_result",
     "execution_count": 13
    }
   ],
   "source": [
    "# 6个历史盘面，每个都是根据子力编码\n",
    "observation.shape"
   ],
   "metadata": {
    "collapsed": false,
    "pycharm": {
     "name": "#%%\n",
     "is_executing": false
    }
   }
  },
  {
   "cell_type": "code",
   "execution_count": 14,
   "outputs": [
    {
     "data": {
      "text/plain": "array([[ 0.,  0.,  0., -5.,  0., -4., -3.,  0., -1.],\n       [ 0.,  0.,  0.,  0.,  0.,  0.,  0.,  0.,  0.],\n       [ 7.,  0.,  0., -4.,  0.,  0., -2.,  0.,  0.],\n       [ 2.,  0., -2.,  0.,  0.,  0.,  0.,  0.,  0.],\n       [ 0.,  0.,  0.,  0., -6.,  7., -6.,  6.,  0.],\n       [ 0.,  0.,  0.,  0.,  0.,  0.,  6.,  0.,  2.],\n       [ 0.,  0., -6.,  0.,  0.,  0.,  0.,  0.,  0.],\n       [ 3.,  0.,  0.,  0.,  0., -7.,  0.,  0.,  0.],\n       [ 0.,  0.,  0.,  0.,  0.,  0.,  0.,  0.,  0.],\n       [ 0.,  0.,  0.,  4., -7.,  4.,  3.,  0.,  1.]])"
     },
     "metadata": {},
     "output_type": "execute_result",
     "execution_count": 14
    }
   ],
   "source": [
    "observation[0]"
   ],
   "metadata": {
    "collapsed": false,
    "pycharm": {
     "name": "#%%\n",
     "is_executing": false
    }
   }
  }
 ],
 "metadata": {
  "kernelspec": {
   "display_name": "Python 3",
   "language": "python",
   "name": "python3"
  },
  "language_info": {
   "codemirror_mode": {
    "name": "ipython",
    "version": 2
   },
   "file_extension": ".py",
   "mimetype": "text/x-python",
   "name": "python",
   "nbconvert_exporter": "python",
   "pygments_lexer": "ipython2",
   "version": "2.7.6"
  },
  "pycharm": {
   "stem_cell": {
    "cell_type": "raw",
    "source": [],
    "metadata": {
     "collapsed": false
    }
   }
  }
 },
 "nbformat": 4,
 "nbformat_minor": 0
}